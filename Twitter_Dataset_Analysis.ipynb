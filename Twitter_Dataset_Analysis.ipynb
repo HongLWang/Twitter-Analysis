{
 "cells": [
  {
   "cell_type": "markdown",
   "metadata": {},
   "source": [
    "# Twitter Data Collection and Processing\n",
    "\n",
    "For this demo we assume that you followed the instruction in the python installation guideline and have a running conda installation. Additionally, please make sure that basic data science packages (e.g., numpy and pandas) are installed.\n",
    "\n",
    "We will go through the following steps in this notebook:\n",
    "\n",
    "    1) Collecting tweets related to \"vaccine\"\n",
    "\n",
    "    2) Analyzing trends about \"vaccine\"\n",
    "\n",
    "    3) Building a network by processing these tweets\n",
    "\n",
    "**Note:** Due to the rate limits of twitter(https://developer.twitter.com/en/docs/twitter-api/rate-limits), we turn to an non-official twitter crawler. We need to install the following python packages:\n",
    "\n",
    "> ```pip3 install twint```\n",
    "https://github.com/twintproject/twint\n",
    "\n",
    "\n",
    "**Data File:** Please refer to this google drive link.\n",
    "\n",
    "\"tweets_full.zip\" and \"tweets_1127_1130.csv\" can be downloaded from https://drive.google.com/drive/folders/1eDYECK9UnDqhuy7KkA6ISK4w8mD18GdQ?usp=sharing \n",
    "\n",
    "--------"
   ]
  },
  {
   "cell_type": "markdown",
   "metadata": {},
   "source": [
    "## 1. Data Collection\n",
    "\n",
    "We collected tweets by using the keyword \"vaccine\". The first news about phase-3-vaccine https://www.pfizer.com/news/press-release/press-release-detail/pfizer-and-biontech-announce-vaccine-candidate-against \n",
    "came out at 2020-11-09, and before that, the efficiency of vaccine remained unclear to the public. At that time, the discussion of vaccination and anti-vaccination had not yet started, or at least less popular. Thus we set the post time of twittes from 2020-11-01 till now."
   ]
  },
  {
   "cell_type": "markdown",
   "metadata": {},
   "source": [
    "### 1.1 Code for Crawling Tweets"
   ]
  },
  {
   "cell_type": "code",
   "execution_count": 1,
   "metadata": {},
   "outputs": [],
   "source": [
    "import numpy as np\n",
    "import pandas as pd\n",
    "import matplotlib.pyplot as plt\n",
    "import os"
   ]
  },
  {
   "cell_type": "code",
   "execution_count": 2,
   "metadata": {},
   "outputs": [
    {
     "data": {
      "text/plain": [
       "'\\nimport twint\\n\\nc = twint.Config()\\nc.Search = \"vaccine\"\\nc.Since = \\'2020-11-01\\'\\n\\nc.Store_csv = True\\nc.Output = \"./data/tweets_full.csv\"\\n\\ntwint.run.Search(c)\\n'"
      ]
     },
     "execution_count": 2,
     "metadata": {},
     "output_type": "execute_result"
    }
   ],
   "source": [
    "'''\n",
    "import twint\n",
    "\n",
    "c = twint.Config()\n",
    "c.Search = \"vaccine\"\n",
    "c.Since = '2020-11-01'\n",
    "\n",
    "c.Store_csv = True\n",
    "c.Output = \"./data/tweets_full.csv\"\n",
    "\n",
    "twint.run.Search(c)\n",
    "'''\n",
    "# These codes would run for more than ten hours via a single PC. \n",
    "# I opened five cloud computers, and assigned each with a task dividing by date.\n",
    "# tweets_full.csv is ~5GB, and it is included in the above google drive link."
   ]
  },
  {
   "cell_type": "markdown",
   "metadata": {},
   "source": [
    "### 1.2 Data Cleaning\n",
    "\n",
    "This dataset contains 10024090 tweets which belongs to 2750470 user. It takes too much time and memory to load this dataset as a dataframe, so we only shows the first 100000 rows in this section as an example."
   ]
  },
  {
   "cell_type": "code",
   "execution_count": 5,
   "metadata": {},
   "outputs": [
    {
     "name": "stderr",
     "output_type": "stream",
     "text": [
      "/home/morris/.local/lib/python3.6/site-packages/IPython/core/interactiveshell.py:3063: DtypeWarning: Columns (0,1,9,21) have mixed types.Specify dtype option on import or set low_memory=False.\n",
      "  interactivity=interactivity, compiler=compiler, result=result)\n"
     ]
    }
   ],
   "source": [
    "# replace this line to you file location\n",
    "filename = '/home/morris/CodeDemo/tweets_full.csv'\n",
    "df = pd.read_csv(filename, sep = ',', error_bad_lines=False, nrows=100000)\n",
    "\n",
    "# remove irrelevant fields\n",
    "df.drop([ 'retweet', 'near', 'geo','source','user_rt_id', 'user_rt','retweet_id', \n",
    "        'retweet_date', 'translate', 'trans_src', 'trans_dest'], axis=1, inplace = True)\n",
    "\n",
    "indexNames = df[df['date'] == \"2021-01-09\"].index\n",
    "df.drop(indexNames, axis=0, inplace=True)\n",
    "\n",
    "df = df.dropna(axis = 0, subset = ['date'] )\n",
    "indexNames_1 = df[df['date'].str.len() != 10].index\n",
    "df.drop(indexNames_1, axis=0, inplace=True)\n",
    "\n",
    "# df.to_csv(\"tweets_full_filted.csv\", index=False)"
   ]
  },
  {
   "cell_type": "markdown",
   "metadata": {},
   "source": [
    "### 1.3 Statistic Information of Tweet Data"
   ]
  },
  {
   "cell_type": "code",
   "execution_count": 6,
   "metadata": {
    "scrolled": true
   },
   "outputs": [
    {
     "name": "stdout",
     "output_type": "stream",
     "text": [
      "Data Set Information\n",
      "Number of fields of this data set: 25\n",
      "Fields:  ['id', 'conversation_id', 'created_at', 'date', 'time', 'timezone', 'user_id', 'username', 'name', 'place', 'tweet', 'language', 'mentions', 'urls', 'photos', 'replies_count', 'retweets_count', 'likes_count', 'hashtags', 'cashtags', 'link', 'quote_url', 'video', 'thumbnail', 'reply_to']\n",
      "Number of tweets:  99999\n",
      "Number of conversation:  55405\n",
      "Number of language:  44\n",
      "<class 'pandas.core.frame.DataFrame'>\n",
      "Int64Index: 99999 entries, 0 to 99999\n",
      "Data columns (total 25 columns):\n",
      " #   Column           Non-Null Count  Dtype  \n",
      "---  ------           --------------  -----  \n",
      " 0   id               99999 non-null  object \n",
      " 1   conversation_id  99999 non-null  object \n",
      " 2   created_at       99999 non-null  object \n",
      " 3   date             99999 non-null  object \n",
      " 4   time             99999 non-null  object \n",
      " 5   timezone         99999 non-null  int64  \n",
      " 6   user_id          99999 non-null  int64  \n",
      " 7   username         99999 non-null  object \n",
      " 8   name             99974 non-null  object \n",
      " 9   place            14 non-null     object \n",
      " 10  tweet            99999 non-null  object \n",
      " 11  language         99998 non-null  object \n",
      " 12  mentions         99998 non-null  object \n",
      " 13  urls             99998 non-null  object \n",
      " 14  photos           99998 non-null  object \n",
      " 15  replies_count    99998 non-null  float64\n",
      " 16  retweets_count   99998 non-null  float64\n",
      " 17  likes_count      99998 non-null  float64\n",
      " 18  hashtags         99998 non-null  object \n",
      " 19  cashtags         99998 non-null  object \n",
      " 20  link             99998 non-null  object \n",
      " 21  quote_url        9151 non-null   object \n",
      " 22  video            99998 non-null  float64\n",
      " 23  thumbnail        6416 non-null   object \n",
      " 24  reply_to         99998 non-null  object \n",
      "dtypes: float64(4), int64(2), object(19)\n",
      "memory usage: 19.8+ MB\n",
      "None\n"
     ]
    }
   ],
   "source": [
    "\n",
    "column_name = df.columns.values.tolist()\n",
    "unique_conversation = df['conversation_id'].drop_duplicates(keep='first', inplace=False)\n",
    "unique_lang = df['language'].drop_duplicates(keep='first', inplace=False)\n",
    "\n",
    "print(\"Data Set Information\")\n",
    "print(\"Number of fields of this data set:\", len(column_name))\n",
    "print(\"Fields: \", column_name)\n",
    "print(\"Number of tweets: \", df.shape[0])\n",
    "print(\"Number of conversation: \", len(unique_conversation))\n",
    "print(\"Number of language: \", len(unique_lang))\n",
    "\n",
    "print(df.info(verbose=True, null_counts = True))"
   ]
  },
  {
   "cell_type": "code",
   "execution_count": 10,
   "metadata": {},
   "outputs": [
    {
     "name": "stdout",
     "output_type": "stream",
     "text": [
      "Number of user:  75420\n",
      "Number of users who posted more than 1 tweet:  12991\n",
      "Number of users who posted more than 10 tweet:  183\n"
     ]
    },
    {
     "data": {
      "image/png": "[encoded data removed]",
      "text/plain": [
       "<Figure size 2160x432 with 1 Axes>"
      ]
     },
     "metadata": {},
     "output_type": "display_data"
    }
   ],
   "source": [
    "\n",
    "import datetime\n",
    "import numpy as np\n",
    "import matplotlib.pyplot as plt\n",
    "import matplotlib\n",
    "\n",
    "unique_user_id = df['user_id'].drop_duplicates(keep='first', inplace=False)\n",
    "unique_user_id = unique_user_id.to_numpy()\n",
    "freq = df.username.value_counts()\n",
    "print(\"Number of user: \", len(unique_user_id))\n",
    "print(\"Number of users who posted more than 1 tweet: \", len(freq[freq > 1]))\n",
    "print(\"Number of users who posted more than 10 tweet: \", len(freq[freq > 10]))\n",
    "\n",
    "plt.hist(np.array(freq.tolist()), bins=40, color='green', histtype='stepfilled', alpha=0.75)\n",
    "plt.title(\"Freqency of user tweets number\")\n",
    "plt.show()"
   ]
  },
  {
   "cell_type": "markdown",
   "metadata": {},
   "source": [
    "## 2. Analyzing Trends about Vaccine"
   ]
  },
  {
   "cell_type": "markdown",
   "metadata": {},
   "source": [
    "### 2.1 Vaccine - Daily Twitter Trend"
   ]
  },
  {
   "cell_type": "code",
   "execution_count": 11,
   "metadata": {},
   "outputs": [],
   "source": [
    "\n",
    "trend_of_day = df.date.value_counts()\n",
    "trend_of_day = trend_of_day.sort_index()\n",
    "trend_of_day.to_csv(\"daily_trend.csv\")\n",
    "\n",
    "# a bit slow."
   ]
  },
  {
   "cell_type": "code",
   "execution_count": 12,
   "metadata": {},
   "outputs": [
    {
     "data": {
      "image/png": "[encoded data removed]",
      "text/plain": [
       "<Figure size 2160x432 with 1 Axes>"
      ]
     },
     "metadata": {},
     "output_type": "display_data"
    }
   ],
   "source": [
    "trend_of_day = pd.read_csv('daily_trend.csv')\n",
    "trend_of_day.columns = ['date', 'NumTweets']\n",
    "\n",
    "plt.rcParams[\"figure.figsize\"] = (30, 6)\n",
    "plt.plot(trend_of_day['date'], trend_of_day['NumTweets'])\n",
    "plt.xticks(rotation=45, fontsize=12)\n",
    "plt.yticks(fontsize=16)\n",
    "plt.xlabel(\"date\", fontsize=16)\n",
    "plt.ylabel(\"Num of Tweets\", fontsize=16)\n",
    "plt.title(\"Daily Trends about Vaccine\", fontsize=20)\n",
    "plt.show()\n"
   ]
  },
  {
   "cell_type": "markdown",
   "metadata": {},
   "source": [
    "The first peak came with the announcment of Pfizer&Biontech vaccine. The cause for another peak at 12-01 could be that Pfizer and BioNTech submitted a marketing authorization to the European Medicines Agency (EMA)."
   ]
  },
  {
   "cell_type": "markdown",
   "metadata": {},
   "source": [
    "## 3. Building a Twitter Network\n",
    "\n",
    "Ultilizing user-friends and user-follower relationship may be the best way to bulid a twitter network. However, we did not collect these information. Instead, we constructed twitter relationships based on the conversation interaction. This works in the following way.\n",
    "\n",
    "(1) If user A posted a tweet that reply to user B's tweet (we call them reply-to pairs), then there is an edge between them. \n",
    "\n",
    "(2) If both tweets of user A and B are comments to the same tweet but they may not reply to each other (in this case, we call them users in the same conversation), we randomly choose whether to add an edge between user A and B. This is because sometimes there could be thousands of users in the same conversation. If we add edges between each pair of users, there will be a huge clique in the network we get, which will not be the real case. In the experiment, we set a budget to control the edge density among users in the same conversation and randomly add edges until the budget is reached."
   ]
  },
  {
   "cell_type": "markdown",
   "metadata": {},
   "source": [
    "### 3.1 Collecting Edges From Raw Data\n",
    "\n",
    "In this part we use a subset of the collected data to build the network and for later analysis. The subset contains tweets during Nov. 27th to Nov. 30th."
   ]
  },
  {
   "cell_type": "code",
   "execution_count": 16,
   "metadata": {},
   "outputs": [
    {
     "name": "stdout",
     "output_type": "stream",
     "text": [
      "Done\n"
     ]
    }
   ],
   "source": [
    "\n",
    "# collect edges that has the relationship \"reply-to\"\n",
    "def getReplyNet(dataframe):\n",
    "    unique_user = dataframe['user_id'].drop_duplicates(keep='first')\n",
    "    unique_user = set(unique_user.values.tolist())\n",
    "\n",
    "    reply = dataframe.loc[dataframe['reply_to'] !='[]'][['user_id','reply_to']]\n",
    "\n",
    "    dataframe = reply.dropna(axis=0, how='any', inplace=False)\n",
    "    groups = dataframe.groupby(['user_id'])\n",
    "\n",
    "    edge_pair = []\n",
    "    for group in groups:\n",
    "        userid = int(group[0])\n",
    "        replies = group[1]['reply_to']\n",
    "\n",
    "        all_user = set()\n",
    "        # collecting users in the \"reply-to field\n",
    "        for reply in replies.tolist():\n",
    "            vocab = eval(reply.strip('[').strip(']')) \n",
    "            if isinstance(vocab, tuple):\n",
    "                for item in vocab:\n",
    "                    id = int(item['id'])\n",
    "                    all_user.add(id if id in unique_user else None)\n",
    "                    # all_user.add(id)\n",
    "            elif isinstance(vocab, dict):\n",
    "                id = int(vocab['id'])\n",
    "                all_user.add(id if id in unique_user else None)\n",
    "                # all_user.add(id)\n",
    "\n",
    "        edges = [[userid, a] for a in all_user if a is not None]\n",
    "        edge_pair.extend(edges)\n",
    "\n",
    "    return edge_pair\n",
    "\n",
    "# create random edges between users in the same conversation\n",
    "def getConverNet(dataframe):\n",
    "    dataframe = dataframe[['conversation_id','user_id','reply_to']].dropna(axis=0, how='any', inplace=False)\n",
    "    groups = dataframe.groupby(['conversation_id'])\n",
    "\n",
    "    edge_pair = []\n",
    "    for group in groups:\n",
    "        df = group[1]['user_id'].drop_duplicates(keep='first')\n",
    "        if len(df)>2:\n",
    "            edges = randomEdges(df.values.tolist())\n",
    "            edge_pair.extend(edges)\n",
    "\n",
    "    edge_pair2 = getReplyNet(dataframe)\n",
    "    edge_pair.extend(edge_pair2)\n",
    "\n",
    "    np.savetxt(\"conversation_edges.txt\", edge_pair, delimiter=\" \", fmt=\"%d\")\n",
    "\n",
    "    \n",
    "# randomly add a edge between two set of nodes with a given density budget \n",
    "def randomEdges(u_list):\n",
    "    if not isinstance(u_list, np.ndarray):\n",
    "        u_list = np.array(u_list)\n",
    "\n",
    "    if len(u_list) == 2:\n",
    "        return ([u_list[0], u_list[1]])\n",
    "\n",
    "    density = 0.1\n",
    "    randN = max(1, int(density*len(u_list)*len(u_list)))\n",
    "\n",
    "    r1 = np.random.randint(0,len(u_list), randN)\n",
    "    r2 = np.random.randint(0,len(u_list), randN)\n",
    "\n",
    "    u1 = u_list[r1]\n",
    "    u2 = u_list[r2]\n",
    "\n",
    "    return ([[u1[i],u2[i]]  for i in range(randN) if not u1[i]==u2[i]])\n",
    "\n",
    "\n",
    "filename = 'tweets1127_1130.csv'\n",
    "df = pd.read_csv(filename, sep = ',', error_bad_lines=False)\n",
    "getConverNet(df)\n",
    "print('Done')"
   ]
  },
  {
   "cell_type": "markdown",
   "metadata": {},
   "source": [
    "### 3.2 Sampling a Small Connected Network"
   ]
  },
  {
   "cell_type": "code",
   "execution_count": 19,
   "metadata": {},
   "outputs": [
    {
     "name": "stdout",
     "output_type": "stream",
     "text": [
      "Number of nodes= 58361\n",
      "Number of edges= 1306061\n",
      "Number of nodes sampled= 10000\n",
      "Number of edges sampled= 428640\n"
     ]
    }
   ],
   "source": [
    "import networkx as nx\n",
    "from littleballoffur.node_sampling import PageRankBasedSampler\n",
    "from littleballoffur.node_sampling import DegreeBasedSampler\n",
    "from littleballoffur import DiffusionSampler, PageRankBasedSampler\n",
    "from littleballoffur import DepthFirstSearchSampler\n",
    "\n",
    "G = nx.read_edgelist(\"conversation_edges.txt\", nodetype=int)\n",
    "# sub = nx.connected_components(G)\n",
    "# sub = list(sub)\n",
    "largest_components = max(nx.connected_components(G), key=len)\n",
    "\n",
    "sub_graph = G.subgraph(largest_components)\n",
    "print(\"Number of nodes=\", len(sub_graph.nodes()))\n",
    "print(\"Number of edges=\", len(sub_graph.edges()))\n",
    "\n",
    "deg_sorted = sorted(sub_graph.degree, key=lambda x: x[1], reverse=True)\n",
    "\n",
    "mapping = dict(zip(sub_graph, range(0, len(sub_graph.nodes()))))\n",
    "newG = nx.relabel_nodes(sub_graph, mapping)  # nodes are integers 1 through 26\n",
    "\n",
    "# pagerank -- too sparse\n",
    "# sampler = PageRankBasedSampler(number_of_nodes = 10000)\n",
    "# diffusion sampler \n",
    "sampler = DiffusionSampler(number_of_nodes=10000)\n",
    "# depthFirst sampler -- too sparse\n",
    "# sampler = DepthFirstSearchSampler(number_of_nodes = 10000)\n",
    "\n",
    "sampled_subgraph = sampler.sample(newG)\n",
    "print(\"Number of nodes sampled=\", len(sampled_subgraph.nodes()))\n",
    "print(\"Number of edges sampled=\", len(sampled_subgraph.edges()))\n",
    "\n",
    "new_mapping = {v: k for k, v in mapping.items()}\n",
    "sampled_subgraph = nx.relabel_nodes(sampled_subgraph, new_mapping)\n",
    "\n",
    "np.savetxt(\"sampled_node_id.txt\", list(sampled_subgraph.nodes()), delimiter=\" \", fmt= \"%d\")\n",
    "nx.write_edgelist(sampled_subgraph, \"subGraphEdges\")"
   ]
  },
  {
   "cell_type": "code",
   "execution_count": null,
   "metadata": {},
   "outputs": [],
   "source": []
  }
 ],
 "metadata": {
  "kernelspec": {
   "display_name": "Python 3",
   "language": "python",
   "name": "python3"
  },
  "language_info": {
   "codemirror_mode": {
    "name": "ipython",
    "version": 3
   },
   "file_extension": ".py",
   "mimetype": "text/x-python",
   "name": "python",
   "nbconvert_exporter": "python",
   "pygments_lexer": "ipython3",
   "version": "3.8.5"
  }
 },
 "nbformat": 4,
 "nbformat_minor": 4
}
